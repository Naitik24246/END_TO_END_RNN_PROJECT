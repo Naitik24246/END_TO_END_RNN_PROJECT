{
 "cells": [
  {
   "cell_type": "markdown",
   "id": "21123206",
   "metadata": {},
   "source": [
    "## Word Embedding\n",
    "\n",
    "A word embedding is a technique to convert words into numbers (vectors) so that a machine learning model (like an RNN or neural network) can understand them.\n",
    "\n",
    "But not just any numbers — these vectors capture the meaning of the words!\n"
   ]
  },
  {
   "cell_type": "markdown",
   "id": "296945c9",
   "metadata": {},
   "source": [
    "\n",
    "Unlike \"one-hot encoding\" (where every word is just a 1 or 0), word embeddings:\n",
    "\n",
    "✅ Capture semantic meaning\n",
    "\n",
    "✅ Understand similarity (e.g., \"king\" and \"queen\" are close)\n",
    "\n",
    "✅ Can be pretrained (like Word2Vec, GloVe, or FastText)\n",
    "\n",
    "✅ Learn during model training (in deep learning)"
   ]
  },
  {
   "cell_type": "code",
   "execution_count": 2,
   "id": "3a3b03b7",
   "metadata": {},
   "outputs": [],
   "source": [
    "from tensorflow.keras.preprocessing.text import one_hot"
   ]
  },
  {
   "cell_type": "code",
   "execution_count": 3,
   "id": "7dc2e32f",
   "metadata": {},
   "outputs": [],
   "source": [
    "###Sentence\n",
    "sent=[\"The glass of milk\",\n",
    "      \"the glass of juice\",\n",
    "      \"the cup of tea\",\n",
    "      \"I am a good boy\",\n",
    "      \"I am a good developer\",\n",
    "      \"Understand the meaning of words\",\n",
    "      \"Your videos are good\",]"
   ]
  },
  {
   "cell_type": "code",
   "execution_count": 38,
   "id": "32b66cdc",
   "metadata": {},
   "outputs": [],
   "source": [
    "## Define the vocabulary size \n",
    "voc_size=10000"
   ]
  },
  {
   "cell_type": "code",
   "execution_count": 16,
   "id": "cb824bd4",
   "metadata": {},
   "outputs": [],
   "source": [
    "one_hot_repr=[]"
   ]
  },
  {
   "cell_type": "code",
   "execution_count": 17,
   "id": "a02cd5b3",
   "metadata": {},
   "outputs": [],
   "source": [
    "for word in sent:\n",
    "    embed=one_hot(word,voc_size)\n",
    "    one_hot_repr.append(embed)\n",
    "    "
   ]
  },
  {
   "cell_type": "code",
   "execution_count": 18,
   "id": "29a382b3",
   "metadata": {},
   "outputs": [
    {
     "data": {
      "text/plain": [
       "[[9749, 2017, 6965, 1199],\n",
       " [9749, 2017, 6965, 3223],\n",
       " [9749, 5679, 6965, 4849],\n",
       " [4520, 7722, 8584, 9280, 8589],\n",
       " [4520, 7722, 8584, 9280, 9530],\n",
       " [6986, 9749, 2873, 6965, 4317],\n",
       " [7108, 9468, 3896, 9280]]"
      ]
     },
     "execution_count": 18,
     "metadata": {},
     "output_type": "execute_result"
    }
   ],
   "source": [
    "one_hot_repr"
   ]
  },
  {
   "cell_type": "code",
   "execution_count": 21,
   "id": "466592de",
   "metadata": {},
   "outputs": [],
   "source": [
    "## Word embedding Representation\n",
    "## We have to make sentences same number of size\n",
    "\n",
    "from tensorflow.keras.layers import Embedding\n",
    "from tensorflow.keras.utils import pad_sequences\n",
    "from tensorflow.keras.models import Sequential\n",
    "import numpy as np "
   ]
  },
  {
   "cell_type": "code",
   "execution_count": 40,
   "id": "ad3e81df",
   "metadata": {},
   "outputs": [],
   "source": [
    "sent_length=8\n",
    "embedded_docs=pad_sequences(one_hot_repr,padding=\"pre\",maxlen=sent_length)\n",
    "## padding is used to make number of words equal in any sentence.\n",
    "## by adding number of zeroes before(pre) and after(post)."
   ]
  },
  {
   "cell_type": "code",
   "execution_count": 41,
   "id": "055ffd19",
   "metadata": {},
   "outputs": [
    {
     "data": {
      "text/plain": [
       "array([[   0,    0,    0,    0, 9749, 2017, 6965, 1199],\n",
       "       [   0,    0,    0,    0, 9749, 2017, 6965, 3223],\n",
       "       [   0,    0,    0,    0, 9749, 5679, 6965, 4849],\n",
       "       [   0,    0,    0, 4520, 7722, 8584, 9280, 8589],\n",
       "       [   0,    0,    0, 4520, 7722, 8584, 9280, 9530],\n",
       "       [   0,    0,    0, 6986, 9749, 2873, 6965, 4317],\n",
       "       [   0,    0,    0,    0, 7108, 9468, 3896, 9280]], dtype=int32)"
      ]
     },
     "execution_count": 41,
     "metadata": {},
     "output_type": "execute_result"
    }
   ],
   "source": [
    "embedded_docs"
   ]
  },
  {
   "cell_type": "code",
   "execution_count": 39,
   "id": "dc6b1a61",
   "metadata": {},
   "outputs": [],
   "source": [
    "## Feature representation\n",
    "dim=10"
   ]
  },
  {
   "cell_type": "code",
   "execution_count": 44,
   "id": "065cc09a",
   "metadata": {},
   "outputs": [
    {
     "name": "stderr",
     "output_type": "stream",
     "text": [
      "c:\\Users\\Naitik\\OneDrive\\Desktop\\All Desktop\\RNN\\.venv\\Lib\\site-packages\\keras\\src\\layers\\core\\embedding.py:97: UserWarning: Argument `input_length` is deprecated. Just remove it.\n",
      "  warnings.warn(\n"
     ]
    }
   ],
   "source": [
    "model=Sequential()\n",
    "model.add(Embedding(voc_size,dim,input_length=sent_length))\n",
    "model.compile(\"adam\",\"mse\")\n",
    "model.build(input_shape=(None,sent_length))"
   ]
  },
  {
   "cell_type": "code",
   "execution_count": 45,
   "id": "9ff3cffe",
   "metadata": {},
   "outputs": [
    {
     "data": {
      "text/html": [
       "<pre style=\"white-space:pre;overflow-x:auto;line-height:normal;font-family:Menlo,'DejaVu Sans Mono',consolas,'Courier New',monospace\"><span style=\"font-weight: bold\">Model: \"sequential_6\"</span>\n",
       "</pre>\n"
      ],
      "text/plain": [
       "\u001b[1mModel: \"sequential_6\"\u001b[0m\n"
      ]
     },
     "metadata": {},
     "output_type": "display_data"
    },
    {
     "data": {
      "text/html": [
       "<pre style=\"white-space:pre;overflow-x:auto;line-height:normal;font-family:Menlo,'DejaVu Sans Mono',consolas,'Courier New',monospace\">┏━━━━━━━━━━━━━━━━━━━━━━━━━━━━━━━━━┳━━━━━━━━━━━━━━━━━━━━━━━━┳━━━━━━━━━━━━━━━┓\n",
       "┃<span style=\"font-weight: bold\"> Layer (type)                    </span>┃<span style=\"font-weight: bold\"> Output Shape           </span>┃<span style=\"font-weight: bold\">       Param # </span>┃\n",
       "┡━━━━━━━━━━━━━━━━━━━━━━━━━━━━━━━━━╇━━━━━━━━━━━━━━━━━━━━━━━━╇━━━━━━━━━━━━━━━┩\n",
       "│ embedding_6 (<span style=\"color: #0087ff; text-decoration-color: #0087ff\">Embedding</span>)         │ (<span style=\"color: #00d7ff; text-decoration-color: #00d7ff\">None</span>, <span style=\"color: #00af00; text-decoration-color: #00af00\">8</span>, <span style=\"color: #00af00; text-decoration-color: #00af00\">10</span>)          │       <span style=\"color: #00af00; text-decoration-color: #00af00\">100,000</span> │\n",
       "└─────────────────────────────────┴────────────────────────┴───────────────┘\n",
       "</pre>\n"
      ],
      "text/plain": [
       "┏━━━━━━━━━━━━━━━━━━━━━━━━━━━━━━━━━┳━━━━━━━━━━━━━━━━━━━━━━━━┳━━━━━━━━━━━━━━━┓\n",
       "┃\u001b[1m \u001b[0m\u001b[1mLayer (type)                   \u001b[0m\u001b[1m \u001b[0m┃\u001b[1m \u001b[0m\u001b[1mOutput Shape          \u001b[0m\u001b[1m \u001b[0m┃\u001b[1m \u001b[0m\u001b[1m      Param #\u001b[0m\u001b[1m \u001b[0m┃\n",
       "┡━━━━━━━━━━━━━━━━━━━━━━━━━━━━━━━━━╇━━━━━━━━━━━━━━━━━━━━━━━━╇━━━━━━━━━━━━━━━┩\n",
       "│ embedding_6 (\u001b[38;5;33mEmbedding\u001b[0m)         │ (\u001b[38;5;45mNone\u001b[0m, \u001b[38;5;34m8\u001b[0m, \u001b[38;5;34m10\u001b[0m)          │       \u001b[38;5;34m100,000\u001b[0m │\n",
       "└─────────────────────────────────┴────────────────────────┴───────────────┘\n"
      ]
     },
     "metadata": {},
     "output_type": "display_data"
    },
    {
     "data": {
      "text/html": [
       "<pre style=\"white-space:pre;overflow-x:auto;line-height:normal;font-family:Menlo,'DejaVu Sans Mono',consolas,'Courier New',monospace\"><span style=\"font-weight: bold\"> Total params: </span><span style=\"color: #00af00; text-decoration-color: #00af00\">100,000</span> (390.62 KB)\n",
       "</pre>\n"
      ],
      "text/plain": [
       "\u001b[1m Total params: \u001b[0m\u001b[38;5;34m100,000\u001b[0m (390.62 KB)\n"
      ]
     },
     "metadata": {},
     "output_type": "display_data"
    },
    {
     "data": {
      "text/html": [
       "<pre style=\"white-space:pre;overflow-x:auto;line-height:normal;font-family:Menlo,'DejaVu Sans Mono',consolas,'Courier New',monospace\"><span style=\"font-weight: bold\"> Trainable params: </span><span style=\"color: #00af00; text-decoration-color: #00af00\">100,000</span> (390.62 KB)\n",
       "</pre>\n"
      ],
      "text/plain": [
       "\u001b[1m Trainable params: \u001b[0m\u001b[38;5;34m100,000\u001b[0m (390.62 KB)\n"
      ]
     },
     "metadata": {},
     "output_type": "display_data"
    },
    {
     "data": {
      "text/html": [
       "<pre style=\"white-space:pre;overflow-x:auto;line-height:normal;font-family:Menlo,'DejaVu Sans Mono',consolas,'Courier New',monospace\"><span style=\"font-weight: bold\"> Non-trainable params: </span><span style=\"color: #00af00; text-decoration-color: #00af00\">0</span> (0.00 B)\n",
       "</pre>\n"
      ],
      "text/plain": [
       "\u001b[1m Non-trainable params: \u001b[0m\u001b[38;5;34m0\u001b[0m (0.00 B)\n"
      ]
     },
     "metadata": {},
     "output_type": "display_data"
    }
   ],
   "source": [
    "model.summary()"
   ]
  },
  {
   "cell_type": "code",
   "execution_count": 46,
   "id": "19b2abd9",
   "metadata": {},
   "outputs": [
    {
     "name": "stdout",
     "output_type": "stream",
     "text": [
      "\u001b[1m1/1\u001b[0m \u001b[32m━━━━━━━━━━━━━━━━━━━━\u001b[0m\u001b[37m\u001b[0m \u001b[1m0s\u001b[0m 164ms/step\n"
     ]
    },
    {
     "data": {
      "text/plain": [
       "array([[[ 0.0460086 , -0.02964122, -0.0456552 ,  0.04406799,\n",
       "         -0.03412241, -0.00128101,  0.0064195 ,  0.03992717,\n",
       "         -0.04468503, -0.03317754],\n",
       "        [ 0.0460086 , -0.02964122, -0.0456552 ,  0.04406799,\n",
       "         -0.03412241, -0.00128101,  0.0064195 ,  0.03992717,\n",
       "         -0.04468503, -0.03317754],\n",
       "        [ 0.0460086 , -0.02964122, -0.0456552 ,  0.04406799,\n",
       "         -0.03412241, -0.00128101,  0.0064195 ,  0.03992717,\n",
       "         -0.04468503, -0.03317754],\n",
       "        [ 0.0460086 , -0.02964122, -0.0456552 ,  0.04406799,\n",
       "         -0.03412241, -0.00128101,  0.0064195 ,  0.03992717,\n",
       "         -0.04468503, -0.03317754],\n",
       "        [-0.01562619,  0.02111569, -0.02959358, -0.02308006,\n",
       "         -0.04576334, -0.00557416,  0.01598623, -0.04797106,\n",
       "         -0.01160733, -0.02685769],\n",
       "        [ 0.02978203,  0.02898136,  0.02160995,  0.04875701,\n",
       "          0.03592726,  0.01998505,  0.02680739,  0.02279563,\n",
       "         -0.03511987, -0.01837898],\n",
       "        [ 0.04226874,  0.04118694,  0.01170339, -0.03578061,\n",
       "         -0.01892827,  0.03447373, -0.01394067,  0.04339259,\n",
       "         -0.02231009, -0.01873845],\n",
       "        [ 0.03395249,  0.00663937, -0.02130257,  0.01396083,\n",
       "         -0.03344949,  0.01220616, -0.02331295,  0.02628844,\n",
       "          0.01639521,  0.02283206]],\n",
       "\n",
       "       [[ 0.0460086 , -0.02964122, -0.0456552 ,  0.04406799,\n",
       "         -0.03412241, -0.00128101,  0.0064195 ,  0.03992717,\n",
       "         -0.04468503, -0.03317754],\n",
       "        [ 0.0460086 , -0.02964122, -0.0456552 ,  0.04406799,\n",
       "         -0.03412241, -0.00128101,  0.0064195 ,  0.03992717,\n",
       "         -0.04468503, -0.03317754],\n",
       "        [ 0.0460086 , -0.02964122, -0.0456552 ,  0.04406799,\n",
       "         -0.03412241, -0.00128101,  0.0064195 ,  0.03992717,\n",
       "         -0.04468503, -0.03317754],\n",
       "        [ 0.0460086 , -0.02964122, -0.0456552 ,  0.04406799,\n",
       "         -0.03412241, -0.00128101,  0.0064195 ,  0.03992717,\n",
       "         -0.04468503, -0.03317754],\n",
       "        [-0.01562619,  0.02111569, -0.02959358, -0.02308006,\n",
       "         -0.04576334, -0.00557416,  0.01598623, -0.04797106,\n",
       "         -0.01160733, -0.02685769],\n",
       "        [ 0.02978203,  0.02898136,  0.02160995,  0.04875701,\n",
       "          0.03592726,  0.01998505,  0.02680739,  0.02279563,\n",
       "         -0.03511987, -0.01837898],\n",
       "        [ 0.04226874,  0.04118694,  0.01170339, -0.03578061,\n",
       "         -0.01892827,  0.03447373, -0.01394067,  0.04339259,\n",
       "         -0.02231009, -0.01873845],\n",
       "        [-0.03926241,  0.04073671, -0.00362886, -0.02684172,\n",
       "         -0.04097838,  0.03301804,  0.0313901 , -0.0413627 ,\n",
       "          0.03932624, -0.04817224]],\n",
       "\n",
       "       [[ 0.0460086 , -0.02964122, -0.0456552 ,  0.04406799,\n",
       "         -0.03412241, -0.00128101,  0.0064195 ,  0.03992717,\n",
       "         -0.04468503, -0.03317754],\n",
       "        [ 0.0460086 , -0.02964122, -0.0456552 ,  0.04406799,\n",
       "         -0.03412241, -0.00128101,  0.0064195 ,  0.03992717,\n",
       "         -0.04468503, -0.03317754],\n",
       "        [ 0.0460086 , -0.02964122, -0.0456552 ,  0.04406799,\n",
       "         -0.03412241, -0.00128101,  0.0064195 ,  0.03992717,\n",
       "         -0.04468503, -0.03317754],\n",
       "        [ 0.0460086 , -0.02964122, -0.0456552 ,  0.04406799,\n",
       "         -0.03412241, -0.00128101,  0.0064195 ,  0.03992717,\n",
       "         -0.04468503, -0.03317754],\n",
       "        [-0.01562619,  0.02111569, -0.02959358, -0.02308006,\n",
       "         -0.04576334, -0.00557416,  0.01598623, -0.04797106,\n",
       "         -0.01160733, -0.02685769],\n",
       "        [ 0.016098  , -0.00635455,  0.04902499, -0.02496924,\n",
       "          0.00711017,  0.01639732,  0.01973554,  0.01404012,\n",
       "         -0.04128066,  0.04567737],\n",
       "        [ 0.04226874,  0.04118694,  0.01170339, -0.03578061,\n",
       "         -0.01892827,  0.03447373, -0.01394067,  0.04339259,\n",
       "         -0.02231009, -0.01873845],\n",
       "        [-0.04431169, -0.04623784,  0.00673219, -0.04994137,\n",
       "          0.00744683, -0.04638729, -0.03476417, -0.03802782,\n",
       "         -0.01191403, -0.00870768]],\n",
       "\n",
       "       [[ 0.0460086 , -0.02964122, -0.0456552 ,  0.04406799,\n",
       "         -0.03412241, -0.00128101,  0.0064195 ,  0.03992717,\n",
       "         -0.04468503, -0.03317754],\n",
       "        [ 0.0460086 , -0.02964122, -0.0456552 ,  0.04406799,\n",
       "         -0.03412241, -0.00128101,  0.0064195 ,  0.03992717,\n",
       "         -0.04468503, -0.03317754],\n",
       "        [ 0.0460086 , -0.02964122, -0.0456552 ,  0.04406799,\n",
       "         -0.03412241, -0.00128101,  0.0064195 ,  0.03992717,\n",
       "         -0.04468503, -0.03317754],\n",
       "        [ 0.04557891,  0.00389146, -0.00709652,  0.02199524,\n",
       "          0.0320769 , -0.00834363,  0.01358974, -0.04173297,\n",
       "          0.04756681,  0.0416635 ],\n",
       "        [ 0.04398826,  0.03239893, -0.03436191,  0.0270565 ,\n",
       "          0.03031776, -0.04733841,  0.01492337,  0.03451728,\n",
       "         -0.00014902,  0.0058945 ],\n",
       "        [-0.0153105 ,  0.01751044, -0.04614723,  0.0402036 ,\n",
       "          0.03780041, -0.01451739,  0.03835359,  0.024949  ,\n",
       "         -0.04156248,  0.04460487],\n",
       "        [-0.03600942,  0.0137001 ,  0.04532976, -0.03032941,\n",
       "         -0.04803094,  0.00463899,  0.04295165,  0.02856109,\n",
       "          0.0495803 ,  0.01638185],\n",
       "        [ 0.02928266,  0.01444055,  0.00610715,  0.02160838,\n",
       "         -0.00494504, -0.00071012, -0.01467877, -0.00295638,\n",
       "         -0.04543489, -0.01680084]],\n",
       "\n",
       "       [[ 0.0460086 , -0.02964122, -0.0456552 ,  0.04406799,\n",
       "         -0.03412241, -0.00128101,  0.0064195 ,  0.03992717,\n",
       "         -0.04468503, -0.03317754],\n",
       "        [ 0.0460086 , -0.02964122, -0.0456552 ,  0.04406799,\n",
       "         -0.03412241, -0.00128101,  0.0064195 ,  0.03992717,\n",
       "         -0.04468503, -0.03317754],\n",
       "        [ 0.0460086 , -0.02964122, -0.0456552 ,  0.04406799,\n",
       "         -0.03412241, -0.00128101,  0.0064195 ,  0.03992717,\n",
       "         -0.04468503, -0.03317754],\n",
       "        [ 0.04557891,  0.00389146, -0.00709652,  0.02199524,\n",
       "          0.0320769 , -0.00834363,  0.01358974, -0.04173297,\n",
       "          0.04756681,  0.0416635 ],\n",
       "        [ 0.04398826,  0.03239893, -0.03436191,  0.0270565 ,\n",
       "          0.03031776, -0.04733841,  0.01492337,  0.03451728,\n",
       "         -0.00014902,  0.0058945 ],\n",
       "        [-0.0153105 ,  0.01751044, -0.04614723,  0.0402036 ,\n",
       "          0.03780041, -0.01451739,  0.03835359,  0.024949  ,\n",
       "         -0.04156248,  0.04460487],\n",
       "        [-0.03600942,  0.0137001 ,  0.04532976, -0.03032941,\n",
       "         -0.04803094,  0.00463899,  0.04295165,  0.02856109,\n",
       "          0.0495803 ,  0.01638185],\n",
       "        [ 0.02893567,  0.03903221, -0.04132688,  0.04021898,\n",
       "         -0.02955717, -0.0281028 , -0.00474408,  0.00218879,\n",
       "         -0.01092942, -0.04260826]],\n",
       "\n",
       "       [[ 0.0460086 , -0.02964122, -0.0456552 ,  0.04406799,\n",
       "         -0.03412241, -0.00128101,  0.0064195 ,  0.03992717,\n",
       "         -0.04468503, -0.03317754],\n",
       "        [ 0.0460086 , -0.02964122, -0.0456552 ,  0.04406799,\n",
       "         -0.03412241, -0.00128101,  0.0064195 ,  0.03992717,\n",
       "         -0.04468503, -0.03317754],\n",
       "        [ 0.0460086 , -0.02964122, -0.0456552 ,  0.04406799,\n",
       "         -0.03412241, -0.00128101,  0.0064195 ,  0.03992717,\n",
       "         -0.04468503, -0.03317754],\n",
       "        [-0.02726631,  0.00960661, -0.02512898,  0.0057616 ,\n",
       "         -0.02413538, -0.0311519 ,  0.04931713, -0.02111558,\n",
       "         -0.00105618, -0.02000952],\n",
       "        [-0.01562619,  0.02111569, -0.02959358, -0.02308006,\n",
       "         -0.04576334, -0.00557416,  0.01598623, -0.04797106,\n",
       "         -0.01160733, -0.02685769],\n",
       "        [ 0.00415821,  0.00585067,  0.03197156,  0.00644239,\n",
       "         -0.03808659,  0.02232357,  0.01945633,  0.01931519,\n",
       "         -0.03989155,  0.0201072 ],\n",
       "        [ 0.04226874,  0.04118694,  0.01170339, -0.03578061,\n",
       "         -0.01892827,  0.03447373, -0.01394067,  0.04339259,\n",
       "         -0.02231009, -0.01873845],\n",
       "        [-0.04990543,  0.00875241,  0.04012579, -0.03748121,\n",
       "          0.01828623, -0.02179625,  0.04669732,  0.00479686,\n",
       "          0.00639368, -0.0450362 ]],\n",
       "\n",
       "       [[ 0.0460086 , -0.02964122, -0.0456552 ,  0.04406799,\n",
       "         -0.03412241, -0.00128101,  0.0064195 ,  0.03992717,\n",
       "         -0.04468503, -0.03317754],\n",
       "        [ 0.0460086 , -0.02964122, -0.0456552 ,  0.04406799,\n",
       "         -0.03412241, -0.00128101,  0.0064195 ,  0.03992717,\n",
       "         -0.04468503, -0.03317754],\n",
       "        [ 0.0460086 , -0.02964122, -0.0456552 ,  0.04406799,\n",
       "         -0.03412241, -0.00128101,  0.0064195 ,  0.03992717,\n",
       "         -0.04468503, -0.03317754],\n",
       "        [ 0.0460086 , -0.02964122, -0.0456552 ,  0.04406799,\n",
       "         -0.03412241, -0.00128101,  0.0064195 ,  0.03992717,\n",
       "         -0.04468503, -0.03317754],\n",
       "        [ 0.01528169, -0.00387738,  0.02946708, -0.02450337,\n",
       "          0.02627918,  0.04956007,  0.00046673,  0.008467  ,\n",
       "         -0.04678923, -0.02027859],\n",
       "        [-0.00024322,  0.02628057, -0.04415364, -0.03239824,\n",
       "         -0.02279253,  0.04250537, -0.01238369, -0.03757759,\n",
       "         -0.01806581,  0.00285703],\n",
       "        [ 0.04190582, -0.02731249,  0.03377049, -0.02743784,\n",
       "         -0.0250826 ,  0.01368984, -0.0405859 , -0.04934059,\n",
       "         -0.0405075 ,  0.04376769],\n",
       "        [-0.03600942,  0.0137001 ,  0.04532976, -0.03032941,\n",
       "         -0.04803094,  0.00463899,  0.04295165,  0.02856109,\n",
       "          0.0495803 ,  0.01638185]]], dtype=float32)"
      ]
     },
     "execution_count": 46,
     "metadata": {},
     "output_type": "execute_result"
    }
   ],
   "source": [
    "model.predict(embedded_docs)"
   ]
  },
  {
   "cell_type": "markdown",
   "id": "216da2f7",
   "metadata": {},
   "source": [
    "1. voc_size means total number of unique words and tokens.\n",
    "2. Each word will be represented as dimension vector \n",
    "3. sent_length is the sentences length which can be use dby using pad_sequences\n",
    "4. define the model using sequential()\n",
    "5. Add embedding layer which map each word index from(0 to 9999(voc_size)) to dimensional dense vector."
   ]
  }
 ],
 "metadata": {
  "kernelspec": {
   "display_name": ".venv",
   "language": "python",
   "name": "python3"
  },
  "language_info": {
   "codemirror_mode": {
    "name": "ipython",
    "version": 3
   },
   "file_extension": ".py",
   "mimetype": "text/x-python",
   "name": "python",
   "nbconvert_exporter": "python",
   "pygments_lexer": "ipython3",
   "version": "3.12.7"
  }
 },
 "nbformat": 4,
 "nbformat_minor": 5
}
